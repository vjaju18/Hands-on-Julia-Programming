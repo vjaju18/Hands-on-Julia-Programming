{
 "cells": [
  {
   "cell_type": "markdown",
   "metadata": {},
   "source": [
    "# Chapter-4 Functions and Methods\n",
    "\n",
    "This notebook contains the sample source code explained in the book *Hands-On Julia Programming, Sambit Kumar Dash, 2021, bpb Publications. All Rights Reserved*."
   ]
  },
  {
   "cell_type": "code",
   "execution_count": 1,
   "metadata": {},
   "outputs": [
    {
     "name": "stderr",
     "output_type": "stream",
     "text": [
      "\u001b[32m\u001b[1m  Activating\u001b[22m\u001b[39m environment at `C:\\Users\\Hp\\Desktop\\Hands-on-Julia\\Hands-on-Julia-Programming\\Chapter 04\\Project.toml`\n",
      "\u001b[32m\u001b[1m    Updating\u001b[22m\u001b[39m registry at `C:\\Users\\Hp\\.julia\\registries\\General`\n",
      "\u001b[32m\u001b[1m    Updating\u001b[22m\u001b[39m git-repo `https://github.com/JuliaRegistries/General.git`\n",
      "\u001b[32m\u001b[1m   Installed\u001b[22m\u001b[39m MbedTLS ─ v1.1.6\n",
      "\u001b[32m\u001b[1m    Updating\u001b[22m\u001b[39m `C:\\Users\\Hp\\Desktop\\Hands-on-Julia\\Hands-on-Julia-Programming\\Chapter 04\\Project.toml`\n",
      " \u001b[90m [7073ff75] \u001b[39m\u001b[92m+ IJulia v1.23.3\u001b[39m\n",
      "\u001b[32m\u001b[1m    Updating\u001b[22m\u001b[39m `C:\\Users\\Hp\\Desktop\\Hands-on-Julia\\Hands-on-Julia-Programming\\Chapter 04\\Manifest.toml`\n",
      " \u001b[90m [8f4d0f93] \u001b[39m\u001b[92m+ Conda v1.7.0\u001b[39m\n",
      " \u001b[90m [7073ff75] \u001b[39m\u001b[92m+ IJulia v1.23.3\u001b[39m\n",
      " \u001b[90m [692b3bcd] \u001b[39m\u001b[92m+ JLLWrappers v1.4.1\u001b[39m\n",
      " \u001b[90m [682c06a0] \u001b[39m\u001b[92m+ JSON v0.21.3\u001b[39m\n",
      " \u001b[90m [739be429] \u001b[39m\u001b[92m+ MbedTLS v1.1.6\u001b[39m\n",
      " \u001b[90m [69de0a69] \u001b[39m\u001b[92m+ Parsers v2.4.0\u001b[39m\n",
      " \u001b[90m [21216c6a] \u001b[39m\u001b[92m+ Preferences v1.3.0\u001b[39m\n",
      " \u001b[90m [b85f4697] \u001b[39m\u001b[92m+ SoftGlobalScope v1.1.0\u001b[39m\n",
      " \u001b[90m [81def892] \u001b[39m\u001b[92m+ VersionParsing v1.3.0\u001b[39m\n",
      " \u001b[90m [c2297ded] \u001b[39m\u001b[92m+ ZMQ v1.2.1\u001b[39m\n",
      " \u001b[90m [8f1865be] \u001b[39m\u001b[92m+ ZeroMQ_jll v4.3.4+0\u001b[39m\n",
      " \u001b[90m [a9144af2] \u001b[39m\u001b[92m+ libsodium_jll v1.0.20+0\u001b[39m\n",
      " \u001b[90m [0dad84c5] \u001b[39m\u001b[92m+ ArgTools\u001b[39m\n",
      " \u001b[90m [56f22d72] \u001b[39m\u001b[92m+ Artifacts\u001b[39m\n",
      " \u001b[90m [2a0f44e3] \u001b[39m\u001b[92m+ Base64\u001b[39m\n",
      " \u001b[90m [ade2ca70] \u001b[39m\u001b[92m+ Dates\u001b[39m\n",
      " \u001b[90m [f43a241f] \u001b[39m\u001b[92m+ Downloads\u001b[39m\n",
      " \u001b[90m [7b1f6079] \u001b[39m\u001b[92m+ FileWatching\u001b[39m\n",
      " \u001b[90m [b77e0a4c] \u001b[39m\u001b[92m+ InteractiveUtils\u001b[39m\n",
      " \u001b[90m [b27032c2] \u001b[39m\u001b[92m+ LibCURL\u001b[39m\n",
      " \u001b[90m [76f85450] \u001b[39m\u001b[92m+ LibGit2\u001b[39m\n",
      " \u001b[90m [8f399da3] \u001b[39m\u001b[92m+ Libdl\u001b[39m\n",
      " \u001b[90m [56ddb016] \u001b[39m\u001b[92m+ Logging\u001b[39m\n",
      " \u001b[90m [d6f4376e] \u001b[39m\u001b[92m+ Markdown\u001b[39m\n",
      " \u001b[90m [a63ad114] \u001b[39m\u001b[92m+ Mmap\u001b[39m\n",
      " \u001b[90m [ca575930] \u001b[39m\u001b[92m+ NetworkOptions\u001b[39m\n",
      " \u001b[90m [44cfe95a] \u001b[39m\u001b[92m+ Pkg\u001b[39m\n",
      " \u001b[90m [de0858da] \u001b[39m\u001b[92m+ Printf\u001b[39m\n",
      " \u001b[90m [3fa0cd96] \u001b[39m\u001b[92m+ REPL\u001b[39m\n",
      " \u001b[90m [9a3f8284] \u001b[39m\u001b[92m+ Random\u001b[39m\n",
      " \u001b[90m [ea8e919c] \u001b[39m\u001b[92m+ SHA\u001b[39m\n",
      " \u001b[90m [9e88b42a] \u001b[39m\u001b[92m+ Serialization\u001b[39m\n",
      " \u001b[90m [6462fe0b] \u001b[39m\u001b[92m+ Sockets\u001b[39m\n",
      " \u001b[90m [fa267f1f] \u001b[39m\u001b[92m+ TOML\u001b[39m\n",
      " \u001b[90m [a4e569a6] \u001b[39m\u001b[92m+ Tar\u001b[39m\n",
      " \u001b[90m [8dfed614] \u001b[39m\u001b[92m+ Test\u001b[39m\n",
      " \u001b[90m [cf7118a7] \u001b[39m\u001b[92m+ UUIDs\u001b[39m\n",
      " \u001b[90m [4ec0a83e] \u001b[39m\u001b[92m+ Unicode\u001b[39m\n",
      " \u001b[90m [deac9b47] \u001b[39m\u001b[92m+ LibCURL_jll\u001b[39m\n",
      " \u001b[90m [29816b5a] \u001b[39m\u001b[92m+ LibSSH2_jll\u001b[39m\n",
      " \u001b[90m [c8ffd9c3] \u001b[39m\u001b[92m+ MbedTLS_jll\u001b[39m\n",
      " \u001b[90m [14a3606d] \u001b[39m\u001b[92m+ MozillaCACerts_jll\u001b[39m\n",
      " \u001b[90m [83775a58] \u001b[39m\u001b[92m+ Zlib_jll\u001b[39m\n",
      " \u001b[90m [8e850ede] \u001b[39m\u001b[92m+ nghttp2_jll\u001b[39m\n",
      " \u001b[90m [3f19e933] \u001b[39m\u001b[92m+ p7zip_jll\u001b[39m\n"
     ]
    }
   ],
   "source": [
    "using Pkg\n",
    "pkg\"activate .\"\n",
    "pkg\"instantiate\""
   ]
  },
  {
   "cell_type": "markdown",
   "metadata": {},
   "source": [
    "## 4.1 Introduction\n",
    "\n",
    "In this chapter we take up the classic [8 queens problem](https://en.wikipedia.org/wiki/Eight_queens_puzzle) and try to break the up problem into small pieces of repeatable code as functions. Also, showcase the power of recursive programming in Julia. "
   ]
  },
  {
   "cell_type": "markdown",
   "metadata": {},
   "source": [
    "### 8-Queens Problem"
   ]
  },
  {
   "cell_type": "markdown",
   "metadata": {},
   "source": [
    "#### Two Mutually Safe Queens\n",
    "\n",
    "Condition that two queens on the board attack each other. "
   ]
  },
  {
   "cell_type": "code",
   "execution_count": 2,
   "metadata": {},
   "outputs": [
    {
     "data": {
      "text/plain": [
       "attacks (generic function with 1 method)"
      ]
     },
     "execution_count": 2,
     "metadata": {},
     "output_type": "execute_result"
    }
   ],
   "source": [
    "function attacks(x1, y1, x2, y2)\n",
    "    if x1 == x2\n",
    "        return true\n",
    "    elseif y1 == y2\n",
    "        return true\n",
    "    elseif x1 - y1 == x2 - y2\n",
    "        return true\n",
    "    elseif x1 + y1 == x2 + y2\n",
    "        return true\n",
    "    else\n",
    "        return false\n",
    "    end\n",
    "end"
   ]
  },
  {
   "cell_type": "code",
   "execution_count": 3,
   "metadata": {},
   "outputs": [
    {
     "data": {
      "text/plain": [
       "true"
      ]
     },
     "execution_count": 3,
     "metadata": {},
     "output_type": "execute_result"
    }
   ],
   "source": [
    "attacks(1, 2, 4, 5)"
   ]
  },
  {
   "cell_type": "code",
   "execution_count": 4,
   "metadata": {},
   "outputs": [
    {
     "data": {
      "text/plain": [
       "false"
      ]
     },
     "execution_count": 4,
     "metadata": {},
     "output_type": "execute_result"
    }
   ],
   "source": [
    "attacks(1, 2, 4, 6)"
   ]
  },
  {
   "cell_type": "markdown",
   "metadata": {},
   "source": [
    "#### Operators"
   ]
  },
  {
   "cell_type": "code",
   "execution_count": 5,
   "metadata": {},
   "outputs": [
    {
     "data": {
      "text/plain": [
       "attacks (generic function with 1 method)"
      ]
     },
     "execution_count": 5,
     "metadata": {},
     "output_type": "execute_result"
    }
   ],
   "source": [
    "function attacks(x1, y1, x2, y2)\n",
    "    return x1 == x2 || y1 == y2 || x1 - y1 == x2 - y2 || x1 + y1 == x2 + y2\n",
    "end"
   ]
  },
  {
   "cell_type": "markdown",
   "metadata": {},
   "source": [
    "## 4.2 Short Form\n",
    "\n",
    "Functions can have syntaxes that are simpler and more like mathematical expressions. "
   ]
  },
  {
   "cell_type": "code",
   "execution_count": 6,
   "metadata": {},
   "outputs": [
    {
     "data": {
      "text/plain": [
       "attacks (generic function with 1 method)"
      ]
     },
     "execution_count": 6,
     "metadata": {},
     "output_type": "execute_result"
    }
   ],
   "source": [
    "function attacks(x1, y1, x2, y2)\n",
    "    x1 == x2 || y1 == y2 || x1 - y1 == x2 - y2 || x1 + y1 == x2 + y2\n",
    "end\n"
   ]
  },
  {
   "cell_type": "code",
   "execution_count": 7,
   "metadata": {},
   "outputs": [
    {
     "data": {
      "text/plain": [
       "attacks (generic function with 1 method)"
      ]
     },
     "execution_count": 7,
     "metadata": {},
     "output_type": "execute_result"
    }
   ],
   "source": [
    "attacks(x1, y1, x2, y2) = (x1 == x2 || y1 == y2 || x1 - y1 == x2 - y2 || x1 + y1 == x2 + y2)"
   ]
  },
  {
   "cell_type": "code",
   "execution_count": 8,
   "metadata": {},
   "outputs": [
    {
     "data": {
      "text/plain": [
       "attacks (generic function with 1 method)"
      ]
     },
     "execution_count": 8,
     "metadata": {},
     "output_type": "execute_result"
    }
   ],
   "source": [
    "attacks(x1, y1, x2, y2) = begin       # This is discouraged due to readability \n",
    "    if x1 == x2\n",
    "        return true\n",
    "    elseif y1 == y2\n",
    "        return true\n",
    "    elseif x1 - y1 == x2 - y2\n",
    "        return true\n",
    "    elseif x1 + y1 == x2 + y2\n",
    "        return true\n",
    "    else\n",
    "        return false\n",
    "    end\n",
    "end"
   ]
  },
  {
   "cell_type": "markdown",
   "metadata": {},
   "source": [
    "### Anonymous Functions\n",
    "\n",
    "In a functional language, when they are being used for localized tasks they need not have to have names and pollute all over the namespace. Anonymous functions come in very handy in such conditions. They are also called lambdas. "
   ]
  },
  {
   "cell_type": "code",
   "execution_count": 9,
   "metadata": {},
   "outputs": [
    {
     "data": {
      "text/plain": [
       "#1 (generic function with 1 method)"
      ]
     },
     "execution_count": 9,
     "metadata": {},
     "output_type": "execute_result"
    }
   ],
   "source": [
    "attacks_var = (x1, y1, x2, y2)->(x1 == x2 || y1 == y2 || x1 - y1 == x2 - y2 || x1 + y1 == x2 + y2)"
   ]
  },
  {
   "cell_type": "code",
   "execution_count": 10,
   "metadata": {},
   "outputs": [
    {
     "data": {
      "text/plain": [
       "true"
      ]
     },
     "execution_count": 10,
     "metadata": {},
     "output_type": "execute_result"
    }
   ],
   "source": [
    "attacks_var(1, 2, 4, 5)"
   ]
  },
  {
   "cell_type": "markdown",
   "metadata": {},
   "source": [
    "## 4.3 Input Arguments\n",
    "\n",
    "Julia function arguments are used to dispatch control to the relevant method. "
   ]
  },
  {
   "cell_type": "markdown",
   "metadata": {},
   "source": [
    "### Fixed Arguments"
   ]
  },
  {
   "cell_type": "code",
   "execution_count": 11,
   "metadata": {},
   "outputs": [
    {
     "ename": "LoadError",
     "evalue": "MethodError: no method matching attacks(::Int64, ::Int64, ::Int64, ::Int64, ::Int64)\n\u001b[0mClosest candidates are:\n\u001b[0m  attacks(::Any, ::Any, ::Any, ::Any) at In[8]:1",
     "output_type": "error",
     "traceback": [
      "MethodError: no method matching attacks(::Int64, ::Int64, ::Int64, ::Int64, ::Int64)\n\u001b[0mClosest candidates are:\n\u001b[0m  attacks(::Any, ::Any, ::Any, ::Any) at In[8]:1",
      "",
      "Stacktrace:",
      " [1] top-level scope",
      "   @ In[11]:1",
      " [2] eval",
      "   @ .\\boot.jl:360 [inlined]",
      " [3] include_string(mapexpr::typeof(REPL.softscope), mod::Module, code::String, filename::String)",
      "   @ Base .\\loading.jl:1116"
     ]
    }
   ],
   "source": [
    "attacks(1, 2, 3, 4, 5)"
   ]
  },
  {
   "cell_type": "code",
   "execution_count": 12,
   "metadata": {},
   "outputs": [
    {
     "ename": "LoadError",
     "evalue": "MethodError: no method matching attacks(::Int64, ::Int64, ::Int64)\n\u001b[0mClosest candidates are:\n\u001b[0m  attacks(::Any, ::Any, ::Any, \u001b[91m::Any\u001b[39m) at In[8]:1",
     "output_type": "error",
     "traceback": [
      "MethodError: no method matching attacks(::Int64, ::Int64, ::Int64)\n\u001b[0mClosest candidates are:\n\u001b[0m  attacks(::Any, ::Any, ::Any, \u001b[91m::Any\u001b[39m) at In[8]:1",
      "",
      "Stacktrace:",
      " [1] top-level scope",
      "   @ In[12]:1",
      " [2] eval",
      "   @ .\\boot.jl:360 [inlined]",
      " [3] include_string(mapexpr::typeof(REPL.softscope), mod::Module, code::String, filename::String)",
      "   @ Base .\\loading.jl:1116"
     ]
    }
   ],
   "source": [
    "attacks(1, 2, 3)"
   ]
  },
  {
   "cell_type": "code",
   "execution_count": 13,
   "metadata": {},
   "outputs": [
    {
     "data": {
      "text/plain": [
       "hello_world (generic function with 1 method)"
      ]
     },
     "execution_count": 13,
     "metadata": {},
     "output_type": "execute_result"
    }
   ],
   "source": [
    "function hello_world()\n",
    "    println(\"Hello World!!!\")\n",
    "end"
   ]
  },
  {
   "cell_type": "code",
   "execution_count": 14,
   "metadata": {},
   "outputs": [
    {
     "name": "stdout",
     "output_type": "stream",
     "text": [
      "Hello World!!!\n"
     ]
    }
   ],
   "source": [
    "hello_world()"
   ]
  },
  {
   "cell_type": "markdown",
   "metadata": {},
   "source": [
    "### Variable Arguments\n",
    "\n",
    "Functions can be variable sized arguments. "
   ]
  },
  {
   "cell_type": "code",
   "execution_count": 15,
   "metadata": {},
   "outputs": [
    {
     "data": {
      "text/plain": [
       "mysum (generic function with 1 method)"
      ]
     },
     "execution_count": 15,
     "metadata": {},
     "output_type": "execute_result"
    }
   ],
   "source": [
    "mysum(x, y...) = x + mysum(y...)"
   ]
  },
  {
   "cell_type": "code",
   "execution_count": 16,
   "metadata": {},
   "outputs": [
    {
     "data": {
      "text/plain": [
       "mysum (generic function with 2 methods)"
      ]
     },
     "execution_count": 16,
     "metadata": {},
     "output_type": "execute_result"
    }
   ],
   "source": [
    "mysum(x) = x"
   ]
  },
  {
   "cell_type": "code",
   "execution_count": 17,
   "metadata": {},
   "outputs": [
    {
     "data": {
      "text/plain": [
       "3"
      ]
     },
     "execution_count": 17,
     "metadata": {},
     "output_type": "execute_result"
    }
   ],
   "source": [
    "mysum(1, 2)"
   ]
  },
  {
   "cell_type": "code",
   "execution_count": 18,
   "metadata": {},
   "outputs": [
    {
     "data": {
      "text/plain": [
       "6"
      ]
     },
     "execution_count": 18,
     "metadata": {},
     "output_type": "execute_result"
    }
   ],
   "source": [
    "mysum(1, 2, 3)"
   ]
  },
  {
   "cell_type": "code",
   "execution_count": 19,
   "metadata": {},
   "outputs": [
    {
     "data": {
      "text/plain": [
       "28"
      ]
     },
     "execution_count": 19,
     "metadata": {},
     "output_type": "execute_result"
    }
   ],
   "source": [
    "mysum(1, 2, 3, 4, 5, 6, 7)"
   ]
  },
  {
   "cell_type": "code",
   "execution_count": 20,
   "metadata": {},
   "outputs": [
    {
     "data": {
      "text/plain": [
       "mymax (generic function with 1 method)"
      ]
     },
     "execution_count": 20,
     "metadata": {},
     "output_type": "execute_result"
    }
   ],
   "source": [
    "mymax(x, y...) = mymax(x, mymax(y...))"
   ]
  },
  {
   "cell_type": "code",
   "execution_count": 21,
   "metadata": {},
   "outputs": [
    {
     "data": {
      "text/plain": [
       "mymax (generic function with 2 methods)"
      ]
     },
     "execution_count": 21,
     "metadata": {},
     "output_type": "execute_result"
    }
   ],
   "source": [
    "mymax(x, y) = x > y ? x : y"
   ]
  },
  {
   "cell_type": "code",
   "execution_count": 22,
   "metadata": {},
   "outputs": [
    {
     "data": {
      "text/plain": [
       "3"
      ]
     },
     "execution_count": 22,
     "metadata": {},
     "output_type": "execute_result"
    }
   ],
   "source": [
    "mymax(1, 2, 3)"
   ]
  },
  {
   "cell_type": "code",
   "execution_count": 23,
   "metadata": {},
   "outputs": [
    {
     "data": {
      "text/plain": [
       "3"
      ]
     },
     "execution_count": 23,
     "metadata": {},
     "output_type": "execute_result"
    }
   ],
   "source": [
    "mymax(3, 2, 1)"
   ]
  },
  {
   "cell_type": "code",
   "execution_count": 24,
   "metadata": {},
   "outputs": [
    {
     "data": {
      "text/plain": [
       "10"
      ]
     },
     "execution_count": 24,
     "metadata": {},
     "output_type": "execute_result"
    }
   ],
   "source": [
    "mymax(4, 10, 3, 2, 1)"
   ]
  },
  {
   "cell_type": "code",
   "execution_count": 25,
   "metadata": {},
   "outputs": [
    {
     "ename": "LoadError",
     "evalue": "MethodError: no method matching mymax()\n\u001b[0mClosest candidates are:\n\u001b[0m  mymax(\u001b[91m::Any\u001b[39m, \u001b[91m::Any\u001b[39m) at In[21]:1\n\u001b[0m  mymax(\u001b[91m::Any\u001b[39m, \u001b[91m::Any...\u001b[39m) at In[20]:1",
     "output_type": "error",
     "traceback": [
      "MethodError: no method matching mymax()\n\u001b[0mClosest candidates are:\n\u001b[0m  mymax(\u001b[91m::Any\u001b[39m, \u001b[91m::Any\u001b[39m) at In[21]:1\n\u001b[0m  mymax(\u001b[91m::Any\u001b[39m, \u001b[91m::Any...\u001b[39m) at In[20]:1",
      "",
      "Stacktrace:",
      " [1] mymax(::Int64)",
      "   @ Main .\\In[20]:1",
      " [2] top-level scope",
      "   @ In[25]:1",
      " [3] eval",
      "   @ .\\boot.jl:360 [inlined]",
      " [4] include_string(mapexpr::typeof(REPL.softscope), mod::Module, code::String, filename::String)",
      "   @ Base .\\loading.jl:1116"
     ]
    }
   ],
   "source": [
    "mymax(1)"
   ]
  },
  {
   "cell_type": "code",
   "execution_count": 26,
   "metadata": {},
   "outputs": [
    {
     "data": {
      "text/plain": [
       "mymax (generic function with 3 methods)"
      ]
     },
     "execution_count": 26,
     "metadata": {},
     "output_type": "execute_result"
    }
   ],
   "source": [
    "mymax(x) = x"
   ]
  },
  {
   "cell_type": "code",
   "execution_count": 27,
   "metadata": {},
   "outputs": [
    {
     "data": {
      "text/plain": [
       "1"
      ]
     },
     "execution_count": 27,
     "metadata": {},
     "output_type": "execute_result"
    }
   ],
   "source": [
    "mymax(1)"
   ]
  },
  {
   "cell_type": "code",
   "execution_count": 28,
   "metadata": {},
   "outputs": [
    {
     "data": {
      "text/html": [
       "# 3 methods for generic function <b>mymax</b>:<ul><li> mymax(x) in Main at In[26]:1</li> <li> mymax(x, y) in Main at In[21]:1</li> <li> mymax(x, y...) in Main at In[20]:1</li> </ul>"
      ],
      "text/plain": [
       "# 3 methods for generic function \"mymax\":\n",
       "[1] mymax(x) in Main at In[26]:1\n",
       "[2] mymax(x, y) in Main at In[21]:1\n",
       "[3] mymax(x, y...) in Main at In[20]:1"
      ]
     },
     "execution_count": 28,
     "metadata": {},
     "output_type": "execute_result"
    }
   ],
   "source": [
    "methods(mymax)"
   ]
  },
  {
   "cell_type": "markdown",
   "metadata": {},
   "source": [
    "### Default Values\n",
    "\n",
    "Default values introduce addtional methods. The specific methods for the default values are automatically generated by the compiler. "
   ]
  },
  {
   "cell_type": "code",
   "execution_count": 29,
   "metadata": {},
   "outputs": [
    {
     "data": {
      "text/plain": [
       "mymax (generic function with 3 methods)"
      ]
     },
     "execution_count": 29,
     "metadata": {},
     "output_type": "execute_result"
    }
   ],
   "source": [
    "mymax(x, y...) = mymax(x, mymax(y...))\n",
    "mymax(x, y=x) = x > y ? x : y"
   ]
  },
  {
   "cell_type": "code",
   "execution_count": 30,
   "metadata": {},
   "outputs": [
    {
     "data": {
      "text/html": [
       "# 3 methods for generic function <b>mymax</b>:<ul><li> mymax(x) in Main at In[29]:2</li> <li> mymax(x, y) in Main at In[29]:2</li> <li> mymax(x, y...) in Main at In[29]:1</li> </ul>"
      ],
      "text/plain": [
       "# 3 methods for generic function \"mymax\":\n",
       "[1] mymax(x) in Main at In[29]:2\n",
       "[2] mymax(x, y) in Main at In[29]:2\n",
       "[3] mymax(x, y...) in Main at In[29]:1"
      ]
     },
     "execution_count": 30,
     "metadata": {},
     "output_type": "execute_result"
    }
   ],
   "source": [
    "methods(mymax)"
   ]
  },
  {
   "cell_type": "markdown",
   "metadata": {},
   "source": [
    "### Slurping and Splatting\n",
    "\n",
    "The ... operator can be very useful in function arguments. They can be expanded (splatting) in a function call or considered as tuple (slurping) in the function definition. "
   ]
  },
  {
   "cell_type": "code",
   "execution_count": 31,
   "metadata": {},
   "outputs": [
    {
     "data": {
      "text/plain": [
       "test (generic function with 1 method)"
      ]
     },
     "execution_count": 31,
     "metadata": {},
     "output_type": "execute_result"
    }
   ],
   "source": [
    "function test(args...)\n",
    "    println(typeof(args))\n",
    "end"
   ]
  },
  {
   "cell_type": "code",
   "execution_count": 32,
   "metadata": {},
   "outputs": [
    {
     "name": "stdout",
     "output_type": "stream",
     "text": [
      "Tuple{Int64, Int64, Int64, Float64}\n"
     ]
    }
   ],
   "source": [
    "test(1, 2, 3, 4.0)"
   ]
  },
  {
   "cell_type": "code",
   "execution_count": 33,
   "metadata": {},
   "outputs": [
    {
     "data": {
      "text/plain": [
       "true"
      ]
     },
     "execution_count": 33,
     "metadata": {},
     "output_type": "execute_result"
    }
   ],
   "source": [
    "q1 = (1, 2);\n",
    "q2 = (3, 4);\n",
    "attacks(q1..., q2...)"
   ]
  },
  {
   "cell_type": "markdown",
   "metadata": {},
   "source": [
    "## 4.4 Return Value\n",
    "\n",
    "All Julia functions return the result of the computation as value. "
   ]
  },
  {
   "cell_type": "code",
   "execution_count": 34,
   "metadata": {},
   "outputs": [
    {
     "name": "stdout",
     "output_type": "stream",
     "text": [
      "Hello World!!!\n"
     ]
    }
   ],
   "source": [
    "a = hello_world()"
   ]
  },
  {
   "cell_type": "code",
   "execution_count": 35,
   "metadata": {},
   "outputs": [
    {
     "data": {
      "text/plain": [
       "Nothing"
      ]
     },
     "execution_count": 35,
     "metadata": {},
     "output_type": "execute_result"
    }
   ],
   "source": [
    "typeof(a)"
   ]
  },
  {
   "cell_type": "markdown",
   "metadata": {},
   "source": [
    "### Type Safety "
   ]
  },
  {
   "cell_type": "code",
   "execution_count": 36,
   "metadata": {},
   "outputs": [
    {
     "data": {
      "text/plain": [
       "attacks (generic function with 1 method)"
      ]
     },
     "execution_count": 36,
     "metadata": {},
     "output_type": "execute_result"
    }
   ],
   "source": [
    "function attacks(x1, y1, x2, y2)\n",
    "    if x1 == x2\n",
    "        return true\n",
    "    elseif y1 == y2\n",
    "        return true\n",
    "    elseif x1 - y1 == x2 - y2\n",
    "        return true\n",
    "    elseif x1 + y1 == x2 + y2\n",
    "        return true\n",
    "    end\n",
    "end"
   ]
  },
  {
   "cell_type": "code",
   "execution_count": 37,
   "metadata": {},
   "outputs": [
    {
     "data": {
      "text/plain": [
       "true"
      ]
     },
     "execution_count": 37,
     "metadata": {},
     "output_type": "execute_result"
    }
   ],
   "source": [
    "attacks(1, 2, 3, 4)"
   ]
  },
  {
   "cell_type": "code",
   "execution_count": 38,
   "metadata": {},
   "outputs": [],
   "source": [
    "attacks(1, 2, 3, 5)"
   ]
  },
  {
   "cell_type": "code",
   "execution_count": 39,
   "metadata": {},
   "outputs": [
    {
     "data": {
      "text/plain": [
       "true"
      ]
     },
     "execution_count": 39,
     "metadata": {},
     "output_type": "execute_result"
    }
   ],
   "source": [
    "a = attacks(1, 2, 3, 4)"
   ]
  },
  {
   "cell_type": "code",
   "execution_count": 40,
   "metadata": {},
   "outputs": [],
   "source": [
    "b = attacks(1, 2, 3, 5)"
   ]
  },
  {
   "cell_type": "code",
   "execution_count": 41,
   "metadata": {},
   "outputs": [
    {
     "data": {
      "text/plain": [
       "(Bool, Nothing)"
      ]
     },
     "execution_count": 41,
     "metadata": {},
     "output_type": "execute_result"
    }
   ],
   "source": [
    "typeof(a), typeof(b)"
   ]
  },
  {
   "cell_type": "markdown",
   "metadata": {},
   "source": [
    "### Multiple Values\n",
    "\n",
    "Tuples can be used to return multiple values from a function. "
   ]
  },
  {
   "cell_type": "code",
   "execution_count": 42,
   "metadata": {},
   "outputs": [
    {
     "data": {
      "text/plain": [
       "attacks_with_reason (generic function with 1 method)"
      ]
     },
     "execution_count": 42,
     "metadata": {},
     "output_type": "execute_result"
    }
   ],
   "source": [
    "function attacks_with_reason(x1, y1, x2, y2)\n",
    "    if x1 == x2\n",
    "        return true, :x\n",
    "    elseif y1 == y2\n",
    "        return true, :y\n",
    "    elseif x1 - y1 == x2 - y2\n",
    "        return true, :diag\n",
    "    elseif x1 + y1 == x2 + y2\n",
    "        return true, :xdiag\n",
    "    else\n",
    "        return false, :na\n",
    "    end\n",
    "end"
   ]
  },
  {
   "cell_type": "code",
   "execution_count": 43,
   "metadata": {},
   "outputs": [
    {
     "data": {
      "text/plain": [
       "(true, :diag)"
      ]
     },
     "execution_count": 43,
     "metadata": {},
     "output_type": "execute_result"
    }
   ],
   "source": [
    "attacks_with_reason(1, 2, 3, 4)"
   ]
  },
  {
   "cell_type": "code",
   "execution_count": 44,
   "metadata": {},
   "outputs": [
    {
     "data": {
      "text/plain": [
       "(false, :na)"
      ]
     },
     "execution_count": 44,
     "metadata": {},
     "output_type": "execute_result"
    }
   ],
   "source": [
    "attacks_with_reason(1, 2, 3, 1)"
   ]
  },
  {
   "cell_type": "code",
   "execution_count": 45,
   "metadata": {},
   "outputs": [
    {
     "data": {
      "text/plain": [
       "(true, :y)"
      ]
     },
     "execution_count": 45,
     "metadata": {},
     "output_type": "execute_result"
    }
   ],
   "source": [
    "attacks_with_reason(1, 2, 3, 2)"
   ]
  },
  {
   "cell_type": "code",
   "execution_count": 46,
   "metadata": {},
   "outputs": [
    {
     "data": {
      "text/plain": [
       "(true, :xdiag)"
      ]
     },
     "execution_count": 46,
     "metadata": {},
     "output_type": "execute_result"
    }
   ],
   "source": [
    "attacks_with_reason(1, 2, 2, 1)"
   ]
  },
  {
   "cell_type": "markdown",
   "metadata": {},
   "source": [
    "## 4.5 Recursion\n",
    "\n",
    "Functional programming emphacises use of recursion to achieve complex tasks. We will solve the eight queens problem using recursion. "
   ]
  },
  {
   "cell_type": "code",
   "execution_count": 47,
   "metadata": {},
   "outputs": [
    {
     "data": {
      "text/plain": [
       "queens (generic function with 1 method)"
      ]
     },
     "execution_count": 47,
     "metadata": {},
     "output_type": "execute_result"
    }
   ],
   "source": [
    "attacks(x1, y1, x2, y2) = (x1 == x2 || y1 == y2 || x1 - y1 == x2 - y2 || x1 + y1 == x2 + y2)\n",
    "function queens(N, xs...)\n",
    "    lxs = length(xs)\n",
    "    c = N - lxs                          ## Step 6\n",
    "    if c == 0                            ## Step 3\n",
    "        println(\"Final Positions: \", reverse(xs))\n",
    "        return 0\n",
    "    end\n",
    "    for i=1:N                            ## Step 1 & 2\n",
    "        res = false                      ## Step 2(a)\n",
    "        for j=1:lxs\n",
    "            res = res || attacks(xs[j], N-j+1, i, c)\n",
    "        end\n",
    "        res && continue\n",
    "        v = queens(N, xs..., i)          ## Step 2(c)\n",
    "        v < 0 || return v\n",
    "    end\n",
    "    return -1                            ## Step 4\n",
    "end"
   ]
  },
  {
   "cell_type": "code",
   "execution_count": 48,
   "metadata": {},
   "outputs": [
    {
     "name": "stdout",
     "output_type": "stream",
     "text": [
      "Final Positions: (4, 2, 7, 3, 6, 8, 5, 1)\n"
     ]
    },
    {
     "data": {
      "text/plain": [
       "0"
      ]
     },
     "execution_count": 48,
     "metadata": {},
     "output_type": "execute_result"
    }
   ],
   "source": [
    "queens(8)"
   ]
  },
  {
   "cell_type": "code",
   "execution_count": 49,
   "metadata": {},
   "outputs": [
    {
     "data": {
      "text/plain": [
       "queens (generic function with 1 method)"
      ]
     },
     "execution_count": 49,
     "metadata": {},
     "output_type": "execute_result"
    }
   ],
   "source": [
    "function queens(N, xs...)\n",
    "    println(xs)\n",
    "    lxs = length(xs)\n",
    "    c = N - lxs                          ## Step 6\n",
    "    if c == 0                            ## Step 3\n",
    "        println(\"Final Positions: \", reverse(xs))\n",
    "        return 0\n",
    "    end\n",
    "    for i=1:N                            ## Step 1 & 2\n",
    "        res = false                      ## Step 2(a)\n",
    "        for j=1:lxs\n",
    "            res = res || attacks(xs[j], N-j+1, i, c)\n",
    "        end\n",
    "        res && continue\n",
    "        v = queens(N, xs..., i)          ## Step 2(c)\n",
    "        v < 0 || return v\n",
    "    end\n",
    "    return -1                            ## Step 4\n",
    "end"
   ]
  },
  {
   "cell_type": "markdown",
   "metadata": {},
   "source": [
    "Backtracking view of the recursive eight queens puzzle."
   ]
  },
  {
   "cell_type": "code",
   "execution_count": 50,
   "metadata": {},
   "outputs": [
    {
     "name": "stdout",
     "output_type": "stream",
     "text": [
      "()\n",
      "(1,)\n",
      "(1, 3)\n",
      "(1, 3, 5)\n",
      "(1, 3, 5, 2)\n",
      "(1, 3, 5, 2, 4)\n",
      "(1, 3, 5, 2, 8)\n",
      "(1, 3, 5, 7)\n",
      "(1, 3, 5, 7, 2)\n",
      "(1, 3, 5, 7, 2, 4)\n",
      "(1, 3, 5, 7, 2, 4, 6)\n",
      "(1, 3, 5, 7, 4)\n",
      "(1, 3, 5, 8)\n",
      "(1, 3, 5, 8, 2)\n",
      "(1, 3, 5, 8, 2, 4)\n",
      "(1, 3, 5, 8, 2, 4, 6)\n",
      "(1, 3, 5, 8, 4)\n",
      "(1, 3, 6)\n",
      "(1, 3, 6, 2)\n",
      "(1, 3, 6, 2, 7)\n",
      "(1, 3, 6, 2, 7, 5)\n",
      "(1, 3, 6, 8)\n",
      "(1, 3, 6, 8, 2)\n",
      "(1, 3, 6, 8, 2, 4)\n",
      "(1, 3, 6, 8, 2, 5)\n",
      "(1, 3, 7)\n",
      "(1, 3, 7, 2)\n",
      "(1, 3, 7, 2, 4)\n",
      "(1, 3, 7, 2, 4, 8)\n",
      "(1, 3, 7, 2, 8)\n",
      "(1, 3, 7, 2, 8, 5)\n",
      "(1, 3, 8)\n",
      "(1, 3, 8, 2)\n",
      "(1, 3, 8, 2, 4)\n",
      "(1, 3, 8, 2, 7)\n",
      "(1, 3, 8, 6)\n",
      "(1, 3, 8, 6, 2)\n",
      "(1, 3, 8, 6, 4)\n",
      "(1, 3, 8, 6, 4, 2)\n",
      "(1, 3, 8, 6, 4, 2, 5)\n",
      "(1, 4)\n",
      "(1, 4, 2)\n",
      "(1, 4, 2, 5)\n",
      "(1, 4, 2, 5, 3)\n",
      "(1, 4, 2, 5, 8)\n",
      "(1, 4, 2, 7)\n",
      "(1, 4, 2, 7, 3)\n",
      "(1, 4, 2, 8)\n",
      "(1, 4, 2, 8, 3)\n",
      "(1, 4, 2, 8, 3, 7)\n",
      "(1, 4, 2, 8, 6)\n",
      "(1, 4, 2, 8, 6, 3)\n",
      "(1, 4, 6)\n",
      "(1, 4, 6, 3)\n",
      "(1, 4, 6, 8)\n",
      "(1, 4, 6, 8, 2)\n",
      "(1, 4, 6, 8, 2, 5)\n",
      "(1, 4, 6, 8, 2, 5, 3)\n",
      "(1, 4, 6, 8, 2, 7)\n",
      "(1, 4, 6, 8, 2, 7, 3)\n",
      "(1, 4, 6, 8, 3)\n",
      "(1, 4, 6, 8, 3, 5)\n",
      "(1, 4, 6, 8, 3, 7)\n",
      "(1, 4, 7)\n",
      "(1, 4, 7, 3)\n",
      "(1, 4, 7, 3, 6)\n",
      "(1, 4, 7, 3, 6, 2)\n",
      "(1, 4, 7, 3, 6, 2, 5)\n",
      "(1, 4, 7, 3, 8)\n",
      "(1, 4, 7, 3, 8, 2)\n",
      "(1, 4, 7, 3, 8, 2, 5)\n",
      "(1, 4, 7, 5)\n",
      "(1, 4, 7, 5, 2)\n",
      "(1, 4, 7, 5, 3)\n",
      "(1, 4, 7, 5, 8)\n",
      "(1, 4, 7, 5, 8, 2)\n",
      "(1, 4, 8)\n",
      "(1, 4, 8, 3)\n",
      "(1, 4, 8, 5)\n",
      "(1, 4, 8, 5, 2)\n",
      "(1, 4, 8, 5, 3)\n",
      "(1, 5)\n",
      "(1, 5, 2)\n",
      "(1, 5, 2, 6)\n",
      "(1, 5, 2, 6, 3)\n",
      "(1, 5, 2, 6, 3, 7)\n",
      "(1, 5, 2, 6, 3, 7, 4)\n",
      "(1, 5, 2, 8)\n",
      "(1, 5, 2, 8, 3)\n",
      "(1, 5, 2, 8, 3, 7)\n",
      "(1, 5, 2, 8, 3, 7, 4)\n",
      "(1, 5, 2, 8, 6)\n",
      "(1, 5, 2, 8, 6, 3)\n",
      "(1, 5, 2, 8, 6, 4)\n",
      "(1, 5, 7)\n",
      "(1, 5, 7, 2)\n",
      "(1, 5, 7, 2, 4)\n",
      "(1, 5, 7, 2, 4, 8)\n",
      "(1, 5, 7, 2, 6)\n",
      "(1, 5, 7, 2, 6, 3)\n",
      "(1, 5, 7, 2, 6, 8)\n",
      "(1, 5, 8)\n",
      "(1, 5, 8, 2)\n",
      "(1, 5, 8, 2, 4)\n",
      "(1, 5, 8, 2, 4, 7)\n",
      "(1, 5, 8, 2, 4, 7, 3)\n",
      "(1, 5, 8, 2, 7)\n",
      "(1, 5, 8, 2, 7, 3)\n",
      "(1, 5, 8, 2, 7, 3, 6)\n",
      "(1, 5, 8, 6)\n",
      "(1, 5, 8, 6, 3)\n",
      "(1, 5, 8, 6, 3, 7)\n",
      "(1, 5, 8, 6, 3, 7, 2)\n",
      "(1, 5, 8, 6, 3, 7, 2, 4)\n",
      "Final Positions: (4, 2, 7, 3, 6, 8, 5, 1)\n"
     ]
    },
    {
     "data": {
      "text/plain": [
       "0"
      ]
     },
     "execution_count": 50,
     "metadata": {},
     "output_type": "execute_result"
    }
   ],
   "source": [
    "queens(8)"
   ]
  },
  {
   "cell_type": "markdown",
   "metadata": {},
   "source": [
    "### Tail Call \n",
    "\n",
    "Missing tail call optimization in Julia is a concern but can be offset by first class iterative schemes that reduce emphasis from the recursive tasks. "
   ]
  },
  {
   "cell_type": "code",
   "execution_count": 51,
   "metadata": {},
   "outputs": [
    {
     "data": {
      "text/plain": [
       "mycumsum (generic function with 1 method)"
      ]
     },
     "execution_count": 51,
     "metadata": {},
     "output_type": "execute_result"
    }
   ],
   "source": [
    "function mycumsum(n) \n",
    "     if n <= 0 \n",
    "         return 0 \n",
    "     else \n",
    "         return n + mycumsum(n-1)\n",
    "     end\n",
    "end"
   ]
  },
  {
   "cell_type": "code",
   "execution_count": 52,
   "metadata": {},
   "outputs": [
    {
     "data": {
      "text/plain": [
       "55"
      ]
     },
     "execution_count": 52,
     "metadata": {},
     "output_type": "execute_result"
    }
   ],
   "source": [
    "mycumsum(10)"
   ]
  },
  {
   "cell_type": "code",
   "execution_count": 53,
   "metadata": {},
   "outputs": [
    {
     "data": {
      "text/plain": [
       "mycumsum (generic function with 2 methods)"
      ]
     },
     "execution_count": 53,
     "metadata": {},
     "output_type": "execute_result"
    }
   ],
   "source": [
    "function mycumsum(n, acc=0)\n",
    "    if n <= 0\n",
    "        return acc\n",
    "    else\n",
    "        return mycumsum(n-1, n+acc)\n",
    "    end\n",
    "end"
   ]
  },
  {
   "cell_type": "code",
   "execution_count": 54,
   "metadata": {},
   "outputs": [
    {
     "data": {
      "text/plain": [
       "55"
      ]
     },
     "execution_count": 54,
     "metadata": {},
     "output_type": "execute_result"
    }
   ],
   "source": [
    "mycumsum(10)"
   ]
  },
  {
   "cell_type": "markdown",
   "metadata": {},
   "source": [
    "## 4.6  Polymorphic Methods\n",
    "\n",
    "Functions can be dispatched to different methods based on argument type and show polymorphic behavior advocated by object oriented programming models."
   ]
  },
  {
   "cell_type": "markdown",
   "metadata": {},
   "source": [
    "### Data Types"
   ]
  },
  {
   "cell_type": "code",
   "execution_count": 55,
   "metadata": {},
   "outputs": [
    {
     "data": {
      "text/plain": [
       "area (generic function with 2 methods)"
      ]
     },
     "execution_count": 55,
     "metadata": {},
     "output_type": "execute_result"
    }
   ],
   "source": [
    "abstract type Shape end\n",
    "struct Rectangle <: Shape\n",
    "    w::Float32\n",
    "    h::Float32\n",
    "end\n",
    "\n",
    "struct Triangle <: Shape \n",
    "    a::Float32\n",
    "    b::Float32\n",
    "    c::Float32\n",
    "end\n",
    "area(r::Rectangle)=r.w*r.h\n",
    "\n",
    "function area(t::Triangle)\n",
    "    a, b, c = t.a, t.b, t.c\n",
    "    s = (a + b + c)/2\n",
    "    return sqrt(s*(s-a)*(s-b)*(s-c))\n",
    "end"
   ]
  },
  {
   "cell_type": "code",
   "execution_count": 56,
   "metadata": {},
   "outputs": [
    {
     "data": {
      "text/plain": [
       "(Rectangle(3.0f0, 4.0f0), Triangle(3.0f0, 4.0f0, 5.0f0))"
      ]
     },
     "execution_count": 56,
     "metadata": {},
     "output_type": "execute_result"
    }
   ],
   "source": [
    "r, t = Rectangle(3, 4), Triangle(3, 4, 5)"
   ]
  },
  {
   "cell_type": "code",
   "execution_count": 57,
   "metadata": {},
   "outputs": [
    {
     "data": {
      "text/plain": [
       "12.0f0"
      ]
     },
     "execution_count": 57,
     "metadata": {},
     "output_type": "execute_result"
    }
   ],
   "source": [
    "area(r)"
   ]
  },
  {
   "cell_type": "code",
   "execution_count": 58,
   "metadata": {},
   "outputs": [
    {
     "data": {
      "text/plain": [
       "6.0f0"
      ]
     },
     "execution_count": 58,
     "metadata": {},
     "output_type": "execute_result"
    }
   ],
   "source": [
    "area(t)"
   ]
  },
  {
   "cell_type": "code",
   "execution_count": 59,
   "metadata": {},
   "outputs": [],
   "source": [
    "Base.show(io::IO, s::Shape) = print(io, \"Shape Type:\", typeof(s), \" Area:\", area(s))"
   ]
  },
  {
   "cell_type": "code",
   "execution_count": 60,
   "metadata": {},
   "outputs": [
    {
     "data": {
      "text/plain": [
       "Shape Type:Rectangle Area:12.0"
      ]
     },
     "execution_count": 60,
     "metadata": {},
     "output_type": "execute_result"
    }
   ],
   "source": [
    "r"
   ]
  },
  {
   "cell_type": "code",
   "execution_count": 61,
   "metadata": {},
   "outputs": [
    {
     "data": {
      "text/plain": [
       "Shape Type:Triangle Area:6.0"
      ]
     },
     "execution_count": 61,
     "metadata": {},
     "output_type": "execute_result"
    }
   ],
   "source": [
    "t"
   ]
  },
  {
   "cell_type": "markdown",
   "metadata": {},
   "source": [
    "### Multiple Dispatch "
   ]
  },
  {
   "cell_type": "markdown",
   "metadata": {},
   "source": [
    "### Constructors"
   ]
  },
  {
   "cell_type": "code",
   "execution_count": 62,
   "metadata": {},
   "outputs": [],
   "source": [
    "struct RectangleA\n",
    "    w::Float32\n",
    "    h::Float32\n",
    "    function RectangleA(w::Real, h::Real)\n",
    "        (w > 0 && h > 0) || \n",
    "        error(\"invalid rectangle with non-positive h or w\")\n",
    "        return new(w, h)\n",
    "    end\n",
    "end"
   ]
  },
  {
   "cell_type": "code",
   "execution_count": 63,
   "metadata": {},
   "outputs": [
    {
     "ename": "LoadError",
     "evalue": "invalid rectangle with non-positive h or w",
     "output_type": "error",
     "traceback": [
      "invalid rectangle with non-positive h or w",
      "",
      "Stacktrace:",
      " [1] error(s::String)",
      "   @ Base .\\error.jl:33",
      " [2] RectangleA(w::Float64, h::Float64)",
      "   @ Main .\\In[62]:5",
      " [3] top-level scope",
      "   @ In[63]:1",
      " [4] eval",
      "   @ .\\boot.jl:360 [inlined]",
      " [5] include_string(mapexpr::typeof(REPL.softscope), mod::Module, code::String, filename::String)",
      "   @ Base .\\loading.jl:1116"
     ]
    }
   ],
   "source": [
    "a = RectangleA(1.0, -4.0)"
   ]
  },
  {
   "cell_type": "code",
   "execution_count": 64,
   "metadata": {},
   "outputs": [
    {
     "data": {
      "text/plain": [
       "RectangleA(0.2f0, 0.8f0)"
      ]
     },
     "execution_count": 64,
     "metadata": {},
     "output_type": "execute_result"
    }
   ],
   "source": [
    "a = RectangleA(1//5, 4//5)"
   ]
  },
  {
   "cell_type": "code",
   "execution_count": 65,
   "metadata": {},
   "outputs": [
    {
     "data": {
      "text/plain": [
       "RectangleA(1.0f0, 4.0f0)"
      ]
     },
     "execution_count": 65,
     "metadata": {},
     "output_type": "execute_result"
    }
   ],
   "source": [
    "a = RectangleA(1, 4)"
   ]
  },
  {
   "cell_type": "code",
   "execution_count": 66,
   "metadata": {},
   "outputs": [
    {
     "data": {
      "text/plain": [
       "RectangleA(1.0f0, 4.0f0)"
      ]
     },
     "execution_count": 66,
     "metadata": {},
     "output_type": "execute_result"
    }
   ],
   "source": [
    "a = RectangleA(1.0, 4.0)"
   ]
  },
  {
   "cell_type": "code",
   "execution_count": 67,
   "metadata": {},
   "outputs": [
    {
     "data": {
      "text/plain": [
       "RectangleA(1.0f0, 4.0f0)"
      ]
     },
     "execution_count": 67,
     "metadata": {},
     "output_type": "execute_result"
    }
   ],
   "source": [
    "a = RectangleA(1.0, 4)"
   ]
  },
  {
   "cell_type": "code",
   "execution_count": 68,
   "metadata": {},
   "outputs": [
    {
     "data": {
      "text/plain": [
       "RectangleA"
      ]
     },
     "execution_count": 68,
     "metadata": {},
     "output_type": "execute_result"
    }
   ],
   "source": [
    "RectangleA(a=1.0)=RectangleA(a, a)"
   ]
  },
  {
   "cell_type": "code",
   "execution_count": 69,
   "metadata": {},
   "outputs": [
    {
     "data": {
      "text/plain": [
       "RectangleA(1.0f0, 1.0f0)"
      ]
     },
     "execution_count": 69,
     "metadata": {},
     "output_type": "execute_result"
    }
   ],
   "source": [
    "RectangleA()"
   ]
  },
  {
   "cell_type": "code",
   "execution_count": 70,
   "metadata": {},
   "outputs": [
    {
     "data": {
      "text/plain": [
       "RectangleA(2.0f0, 2.0f0)"
      ]
     },
     "execution_count": 70,
     "metadata": {},
     "output_type": "execute_result"
    }
   ],
   "source": [
    "RectangleA(2.0)"
   ]
  },
  {
   "cell_type": "code",
   "execution_count": 71,
   "metadata": {},
   "outputs": [
    {
     "data": {
      "text/html": [
       "# 3 methods for type constructor:<ul><li> RectangleA() in Main at In[68]:1</li> <li> RectangleA(w::<b>Real</b>, h::<b>Real</b>) in Main at In[62]:4</li> <li> RectangleA(a) in Main at In[68]:1</li> </ul>"
      ],
      "text/plain": [
       "# 3 methods for type constructor:\n",
       "[1] RectangleA() in Main at In[68]:1\n",
       "[2] RectangleA(w::Real, h::Real) in Main at In[62]:4\n",
       "[3] RectangleA(a) in Main at In[68]:1"
      ]
     },
     "execution_count": 71,
     "metadata": {},
     "output_type": "execute_result"
    }
   ],
   "source": [
    "methods(RectangleA)"
   ]
  },
  {
   "cell_type": "markdown",
   "metadata": {},
   "source": [
    "#### Return Value"
   ]
  },
  {
   "cell_type": "markdown",
   "metadata": {},
   "source": [
    "### Parametric Data Type"
   ]
  },
  {
   "cell_type": "code",
   "execution_count": 72,
   "metadata": {},
   "outputs": [],
   "source": [
    "struct RectangleB{T <: Real}\n",
    "    w::T\n",
    "    h::T\n",
    "end"
   ]
  },
  {
   "cell_type": "code",
   "execution_count": 73,
   "metadata": {},
   "outputs": [
    {
     "data": {
      "text/plain": [
       "RectangleB{Rational{Int64}}(2//3, 1//4)"
      ]
     },
     "execution_count": 73,
     "metadata": {},
     "output_type": "execute_result"
    }
   ],
   "source": [
    "RectangleB(2//3, 1//4)"
   ]
  },
  {
   "cell_type": "code",
   "execution_count": 74,
   "metadata": {},
   "outputs": [
    {
     "data": {
      "text/plain": [
       "RectangleB{Float32}(1.0f0, 2.0f0)"
      ]
     },
     "execution_count": 74,
     "metadata": {},
     "output_type": "execute_result"
    }
   ],
   "source": [
    "RectangleB(1f0, 2f0)"
   ]
  },
  {
   "cell_type": "code",
   "execution_count": 75,
   "metadata": {},
   "outputs": [
    {
     "ename": "LoadError",
     "evalue": "MethodError: no method matching RectangleB(::Rational{Int64}, ::Float32)\n\u001b[0mClosest candidates are:\n\u001b[0m  RectangleB(::T, \u001b[91m::T\u001b[39m) where T<:Real at In[72]:2",
     "output_type": "error",
     "traceback": [
      "MethodError: no method matching RectangleB(::Rational{Int64}, ::Float32)\n\u001b[0mClosest candidates are:\n\u001b[0m  RectangleB(::T, \u001b[91m::T\u001b[39m) where T<:Real at In[72]:2",
      "",
      "Stacktrace:",
      " [1] top-level scope",
      "   @ In[75]:1",
      " [2] eval",
      "   @ .\\boot.jl:360 [inlined]",
      " [3] include_string(mapexpr::typeof(REPL.softscope), mod::Module, code::String, filename::String)",
      "   @ Base .\\loading.jl:1116"
     ]
    }
   ],
   "source": [
    "RectangleB(2//3, 1f0)"
   ]
  },
  {
   "cell_type": "code",
   "execution_count": 76,
   "metadata": {},
   "outputs": [
    {
     "data": {
      "text/plain": [
       "RectangleB{Int64}(97, 1)"
      ]
     },
     "execution_count": 76,
     "metadata": {},
     "output_type": "execute_result"
    }
   ],
   "source": [
    "RectangleB{Int}('a', 1f0)"
   ]
  },
  {
   "cell_type": "code",
   "execution_count": 77,
   "metadata": {},
   "outputs": [
    {
     "data": {
      "text/plain": [
       "aspect_ratio (generic function with 1 method)"
      ]
     },
     "execution_count": 77,
     "metadata": {},
     "output_type": "execute_result"
    }
   ],
   "source": [
    "area(r::RectangleB)=r.w*r.h\n",
    "aspect_ratio(r::RectangleB)=r.w/r.h"
   ]
  },
  {
   "cell_type": "code",
   "execution_count": 78,
   "metadata": {},
   "outputs": [
    {
     "data": {
      "text/plain": [
       "(RectangleB{Rational{Int64}}(1//2, 2//3), RectangleB{Float64}(1.5, 0.5), RectangleB{Int64}(1, 2))"
      ]
     },
     "execution_count": 78,
     "metadata": {},
     "output_type": "execute_result"
    }
   ],
   "source": [
    "r, r1, r2 = RectangleB(1//2, 2//3), RectangleB(1.5, 0.5), RectangleB(1, 2)"
   ]
  },
  {
   "cell_type": "code",
   "execution_count": 79,
   "metadata": {},
   "outputs": [
    {
     "data": {
      "text/plain": [
       "(1//3, 0.75, 2)"
      ]
     },
     "execution_count": 79,
     "metadata": {},
     "output_type": "execute_result"
    }
   ],
   "source": [
    "area(r), area(r1), area(r2)"
   ]
  },
  {
   "cell_type": "code",
   "execution_count": 80,
   "metadata": {},
   "outputs": [
    {
     "data": {
      "text/plain": [
       "(3//4, 3.0, 0.5)"
      ]
     },
     "execution_count": 80,
     "metadata": {},
     "output_type": "execute_result"
    }
   ],
   "source": [
    "aspect_ratio(r), aspect_ratio(r1), aspect_ratio(r2)"
   ]
  },
  {
   "cell_type": "code",
   "execution_count": 81,
   "metadata": {},
   "outputs": [
    {
     "data": {
      "text/plain": [
       "aspect_ratio (generic function with 2 methods)"
      ]
     },
     "execution_count": 81,
     "metadata": {},
     "output_type": "execute_result"
    }
   ],
   "source": [
    "aspect_ratio(r::RectangleB{T}) where T<:Union{Integer, Rational} = r.w//r.h"
   ]
  },
  {
   "cell_type": "code",
   "execution_count": 82,
   "metadata": {},
   "outputs": [
    {
     "data": {
      "text/plain": [
       "(3//4, 3.0, 1//2)"
      ]
     },
     "execution_count": 82,
     "metadata": {},
     "output_type": "execute_result"
    }
   ],
   "source": [
    "aspect_ratio(r), aspect_ratio(r1), aspect_ratio(r2)"
   ]
  },
  {
   "cell_type": "code",
   "execution_count": 83,
   "metadata": {},
   "outputs": [
    {
     "data": {
      "text/plain": [
       "aspect_ratio (generic function with 3 methods)"
      ]
     },
     "execution_count": 83,
     "metadata": {},
     "output_type": "execute_result"
    }
   ],
   "source": [
    "aspect_ratio(r::RectangleB{T}) where T<:Integer = r.w//r.h"
   ]
  },
  {
   "cell_type": "code",
   "execution_count": 84,
   "metadata": {},
   "outputs": [
    {
     "data": {
      "text/plain": [
       "aspect_ratio (generic function with 4 methods)"
      ]
     },
     "execution_count": 84,
     "metadata": {},
     "output_type": "execute_result"
    }
   ],
   "source": [
    "aspect_ratio(r::RectangleB{T}) where T<:Rational = r.w//r.h"
   ]
  },
  {
   "cell_type": "code",
   "execution_count": 85,
   "metadata": {},
   "outputs": [
    {
     "data": {
      "text/plain": [
       "false"
      ]
     },
     "execution_count": 85,
     "metadata": {},
     "output_type": "execute_result"
    }
   ],
   "source": [
    "RectangleB{Rational{Int}} <: RectangleB{Rational}"
   ]
  },
  {
   "cell_type": "code",
   "execution_count": 86,
   "metadata": {},
   "outputs": [
    {
     "data": {
      "text/plain": [
       "true"
      ]
     },
     "execution_count": 86,
     "metadata": {},
     "output_type": "execute_result"
    }
   ],
   "source": [
    "RectangleB{Rational{Int}} <: RectangleB"
   ]
  },
  {
   "cell_type": "code",
   "execution_count": 87,
   "metadata": {},
   "outputs": [
    {
     "data": {
      "text/plain": [
       "true"
      ]
     },
     "execution_count": 87,
     "metadata": {},
     "output_type": "execute_result"
    }
   ],
   "source": [
    "RectangleB{Rational} <: RectangleB"
   ]
  },
  {
   "cell_type": "markdown",
   "metadata": {},
   "source": [
    "## 4.7 Type Interaction\n",
    "\n",
    "Type conversions are not automatic. The developers need to provide for methods that approve of certain conversions. "
   ]
  },
  {
   "cell_type": "code",
   "execution_count": 88,
   "metadata": {},
   "outputs": [
    {
     "data": {
      "text/plain": [
       "3.0f0"
      ]
     },
     "execution_count": 88,
     "metadata": {},
     "output_type": "execute_result"
    }
   ],
   "source": [
    "1f0+2"
   ]
  },
  {
   "cell_type": "code",
   "execution_count": 89,
   "metadata": {},
   "outputs": [
    {
     "data": {
      "text/plain": [
       "3.0"
      ]
     },
     "execution_count": 89,
     "metadata": {},
     "output_type": "execute_result"
    }
   ],
   "source": [
    "1f0+2.0"
   ]
  },
  {
   "cell_type": "code",
   "execution_count": 90,
   "metadata": {},
   "outputs": [
    {
     "data": {
      "text/plain": [
       "f (generic function with 1 method)"
      ]
     },
     "execution_count": 90,
     "metadata": {},
     "output_type": "execute_result"
    }
   ],
   "source": [
    "function f()\n",
    "    i::Int = 0\n",
    "    i = 1.5\n",
    "    return i\n",
    "end"
   ]
  },
  {
   "cell_type": "code",
   "execution_count": 91,
   "metadata": {},
   "outputs": [
    {
     "ename": "LoadError",
     "evalue": "InexactError: Int64(1.5)",
     "output_type": "error",
     "traceback": [
      "InexactError: Int64(1.5)",
      "",
      "Stacktrace:",
      " [1] Int64",
      "   @ .\\float.jl:723 [inlined]",
      " [2] convert(#unused#::Type{Int64}, x::Float64)",
      "   @ Base .\\number.jl:7",
      " [3] f()",
      "   @ Main .\\In[90]:3",
      " [4] top-level scope",
      "   @ In[91]:1",
      " [5] eval",
      "   @ .\\boot.jl:360 [inlined]",
      " [6] include_string(mapexpr::typeof(REPL.softscope), mod::Module, code::String, filename::String)",
      "   @ Base .\\loading.jl:1116"
     ]
    }
   ],
   "source": [
    "f()"
   ]
  },
  {
   "cell_type": "markdown",
   "metadata": {},
   "source": [
    "When paramter is already provided the function arguments are converted to the expected data types. "
   ]
  },
  {
   "cell_type": "code",
   "execution_count": 92,
   "metadata": {},
   "outputs": [
    {
     "data": {
      "text/plain": [
       "RectangleB{Int64}(97, 1)"
      ]
     },
     "execution_count": 92,
     "metadata": {},
     "output_type": "execute_result"
    }
   ],
   "source": [
    "RectangleB{Int}('a', 1.0)"
   ]
  },
  {
   "cell_type": "code",
   "execution_count": 93,
   "metadata": {},
   "outputs": [
    {
     "ename": "LoadError",
     "evalue": "MethodError: \u001b[0mCannot `convert` an object of type \u001b[92mString\u001b[39m\u001b[0m to an object of type \u001b[91mInt64\u001b[39m\n\u001b[0mClosest candidates are:\n\u001b[0m  convert(::Type{T}, \u001b[91m::T\u001b[39m) where T<:Number at number.jl:6\n\u001b[0m  convert(::Type{T}, \u001b[91m::Number\u001b[39m) where T<:Number at number.jl:7\n\u001b[0m  convert(::Type{T}, \u001b[91m::Base.TwicePrecision\u001b[39m) where T<:Number at twiceprecision.jl:250\n\u001b[0m  ...",
     "output_type": "error",
     "traceback": [
      "MethodError: \u001b[0mCannot `convert` an object of type \u001b[92mString\u001b[39m\u001b[0m to an object of type \u001b[91mInt64\u001b[39m\n\u001b[0mClosest candidates are:\n\u001b[0m  convert(::Type{T}, \u001b[91m::T\u001b[39m) where T<:Number at number.jl:6\n\u001b[0m  convert(::Type{T}, \u001b[91m::Number\u001b[39m) where T<:Number at number.jl:7\n\u001b[0m  convert(::Type{T}, \u001b[91m::Base.TwicePrecision\u001b[39m) where T<:Number at twiceprecision.jl:250\n\u001b[0m  ...",
      "",
      "Stacktrace:",
      " [1] RectangleB{Int64}(w::String, h::Float64)",
      "   @ Main .\\In[72]:2",
      " [2] top-level scope",
      "   @ In[93]:1",
      " [3] eval",
      "   @ .\\boot.jl:360 [inlined]",
      " [4] include_string(mapexpr::typeof(REPL.softscope), mod::Module, code::String, filename::String)",
      "   @ Base .\\loading.jl:1116"
     ]
    }
   ],
   "source": [
    "RectangleB{Int}(\"abc\", 1.0)"
   ]
  },
  {
   "cell_type": "markdown",
   "metadata": {},
   "source": [
    "### Promotion \n",
    "\n",
    "When mixed types are provided as input, the outcome must be consistent and type stable."
   ]
  },
  {
   "cell_type": "code",
   "execution_count": 94,
   "metadata": {},
   "outputs": [],
   "source": [
    "struct RectangleP{T<:Real}\n",
    "    w::T\n",
    "    h::T\n",
    "    RectangleP(w::T, h::T) where T<:Real=new{T}(w, h)\n",
    "end"
   ]
  },
  {
   "cell_type": "code",
   "execution_count": 95,
   "metadata": {},
   "outputs": [
    {
     "ename": "LoadError",
     "evalue": "MethodError: no method matching RectangleP(::Int64, ::Float64)\n\u001b[0mClosest candidates are:\n\u001b[0m  RectangleP(::T, \u001b[91m::T\u001b[39m) where T<:Real at In[94]:4",
     "output_type": "error",
     "traceback": [
      "MethodError: no method matching RectangleP(::Int64, ::Float64)\n\u001b[0mClosest candidates are:\n\u001b[0m  RectangleP(::T, \u001b[91m::T\u001b[39m) where T<:Real at In[94]:4",
      "",
      "Stacktrace:",
      " [1] top-level scope",
      "   @ In[95]:1",
      " [2] eval",
      "   @ .\\boot.jl:360 [inlined]",
      " [3] include_string(mapexpr::typeof(REPL.softscope), mod::Module, code::String, filename::String)",
      "   @ Base .\\loading.jl:1116"
     ]
    }
   ],
   "source": [
    "RectangleP(1, 2.0)"
   ]
  },
  {
   "cell_type": "code",
   "execution_count": 96,
   "metadata": {},
   "outputs": [
    {
     "data": {
      "text/plain": [
       "RectangleP"
      ]
     },
     "execution_count": 96,
     "metadata": {},
     "output_type": "execute_result"
    }
   ],
   "source": [
    "function RectangleP(w::T1, h::T2) where {T1<:Real, T2<:Real}\n",
    "    w1, h1 = promote(w, h)\n",
    "    return RectangleP(w1, h1)\n",
    "end"
   ]
  },
  {
   "cell_type": "code",
   "execution_count": 97,
   "metadata": {},
   "outputs": [
    {
     "data": {
      "text/plain": [
       "RectangleP{Float64}(1.0, 2.0)"
      ]
     },
     "execution_count": 97,
     "metadata": {},
     "output_type": "execute_result"
    }
   ],
   "source": [
    "RectangleP(1, 2.0)"
   ]
  },
  {
   "cell_type": "code",
   "execution_count": 98,
   "metadata": {},
   "outputs": [
    {
     "data": {
      "text/plain": [
       "minrect (generic function with 1 method)"
      ]
     },
     "execution_count": 98,
     "metadata": {},
     "output_type": "execute_result"
    }
   ],
   "source": [
    "function minrect(r1::RectangleP, r2::RectangleP)\n",
    "    w = r1.w < r2.w ? r1.w : r2.w\n",
    "    h = r1.h < r2.h ? r1.h : r2.h\n",
    "    return RectangleP(w, h)\n",
    "end"
   ]
  },
  {
   "cell_type": "code",
   "execution_count": 99,
   "metadata": {},
   "outputs": [
    {
     "data": {
      "text/plain": [
       "RectangleP{Float64}(1.0, 0.5)"
      ]
     },
     "execution_count": 99,
     "metadata": {},
     "output_type": "execute_result"
    }
   ],
   "source": [
    "minrect(RectangleP(1, 2), RectangleP(2.0, 0.5))"
   ]
  },
  {
   "cell_type": "code",
   "execution_count": 100,
   "metadata": {},
   "outputs": [
    {
     "data": {
      "text/plain": [
       "RectangleP{Int64}(1, 2)"
      ]
     },
     "execution_count": 100,
     "metadata": {},
     "output_type": "execute_result"
    }
   ],
   "source": [
    "minrect(RectangleP(1, 2), RectangleP(3.0, 4.0))"
   ]
  },
  {
   "cell_type": "code",
   "execution_count": 101,
   "metadata": {},
   "outputs": [
    {
     "data": {
      "text/plain": [
       "minrect (generic function with 1 method)"
      ]
     },
     "execution_count": 101,
     "metadata": {},
     "output_type": "execute_result"
    }
   ],
   "source": [
    "Base.promote_rule(::Type{RectangleP{T}}, ::Type{RectangleP{S}}) where {T<:Real, S<:Real} = RectangleP{promote_type(S, T)}\n",
    "Base.convert(::Type{RectangleP{T}}, x::RectangleP{S}) where {T<:Real, S<:Real} = RectangleP(T(x.w), T(x.h))\n",
    "\n",
    "function minrect(tr1::RectangleP, tr2::RectangleP)\n",
    "    r1, r2 = promote(tr1, tr2)\n",
    "    w = r1.w < r2.w ? r1.w : r2.w\n",
    "    h = r1.h < r2.h ? r1.h : r2.h\n",
    "    return RectangleP(w, h)\n",
    "end"
   ]
  },
  {
   "cell_type": "code",
   "execution_count": 102,
   "metadata": {},
   "outputs": [
    {
     "data": {
      "text/plain": [
       "RectangleP{Float64}(1.0, 2.0)"
      ]
     },
     "execution_count": 102,
     "metadata": {},
     "output_type": "execute_result"
    }
   ],
   "source": [
    "minrect(RectangleP(1, 2), RectangleP(3.0, 4.0))"
   ]
  },
  {
   "cell_type": "markdown",
   "metadata": {},
   "source": [
    "## 4.8 Conclusion\n",
    "\n",
    "## Exercise"
   ]
  }
 ],
 "metadata": {
  "@webio": {
   "lastCommId": null,
   "lastKernelId": null
  },
  "kernelspec": {
   "display_name": "Julia 1.6.7",
   "language": "julia",
   "name": "julia-1.6"
  },
  "language_info": {
   "file_extension": ".jl",
   "mimetype": "application/julia",
   "name": "julia",
   "version": "1.6.7"
  }
 },
 "nbformat": 4,
 "nbformat_minor": 4
}
